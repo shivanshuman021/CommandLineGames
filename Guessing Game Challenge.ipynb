{
 "cells": [
  {
   "cell_type": "code",
   "execution_count": 4,
   "metadata": {},
   "outputs": [
    {
     "name": "stdout",
     "output_type": "stream",
     "text": [
      "55\n"
     ]
    }
   ],
   "source": [
    "import random\n",
    "\n",
    "x = random.randint(1,100)\n",
    "\n",
    "print(x)"
   ]
  },
  {
   "cell_type": "code",
   "execution_count": null,
   "metadata": {},
   "outputs": [],
   "source": [
    "\n",
    "\n",
    "while True:\n",
    "\n",
    "    i = int(input(\"Guess the value..\"))\n",
    "    \n",
    "    if i in range(x-10,x+11):\n",
    "        print(\"WARM\")\n",
    "        \n",
    "    \n",
    "        if i in range(x-5,x+6):\n",
    "            print(\"WARMER\")\n",
    "            \n",
    "        \n",
    "            if i in range(x-3,x+4):\n",
    "                print(\"MORE WARMER\")\n",
    "                \n",
    "                if i in range(x-1,x+2):\n",
    "                    print(\"Almost Reached\")\n",
    "                    if i == x:\n",
    "                        print(\"Your guess is correct  !  YOU WIN !!!\")            \n",
    "                        break\n",
    "    else:\n",
    "        print(\"COLD\")\n",
    "        \n",
    "    \n",
    "        "
   ]
  },
  {
   "cell_type": "code",
   "execution_count": null,
   "metadata": {},
   "outputs": [],
   "source": []
  }
 ],
 "metadata": {
  "kernelspec": {
   "display_name": "Python 3",
   "language": "python",
   "name": "python3"
  },
  "language_info": {
   "codemirror_mode": {
    "name": "ipython",
    "version": 3
   },
   "file_extension": ".py",
   "mimetype": "text/x-python",
   "name": "python",
   "nbconvert_exporter": "python",
   "pygments_lexer": "ipython3",
   "version": "3.7.3"
  }
 },
 "nbformat": 4,
 "nbformat_minor": 2
}
